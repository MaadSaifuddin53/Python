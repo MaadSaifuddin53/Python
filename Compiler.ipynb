{
 "cells": [
  {
   "cell_type": "code",
   "execution_count": 1,
   "metadata": {},
   "outputs": [
    {
     "name": "stdout",
     "output_type": "stream",
     "text": [
      "\n",
      "\n",
      "void Main {\n",
      "     myint a_ ;\n",
      "     myint b_ ;\n",
      "     myint product_ ;\n",
      "     Moutput ( \" Enter the number a \" ) ;\n",
      "     Minput ( a_ ) ;\n",
      "     \n",
      "     Moutput ( \" Enter the number b \" ) ;\n",
      "     Minput ( b_ ) ;\n",
      "\n",
      "     product_ = a_ + b_ ; \n",
      "     output ( product_ ) ;\n",
      " }\n",
      "['void', 'Main', '{', 'myint', 'a_', ';', 'myint', 'b_', ';', 'myint', 'product_', ';', 'Moutput', '(', '\"', 'Enter', 'the', 'number', 'a', '\"', ')', ';', 'Minput', '(', 'a_', ')', ';', 'Moutput', '(', '\"', 'Enter', 'the', 'number', 'b', '\"', ')', ';', 'Minput', '(', 'b_', ')', ';', 'product_', '=', 'a_', '+', 'b_', ';', 'output', '(', 'product_', ')', ';', '}'] \n",
      "\n",
      "void Main { myint a_ ; myint b_ ; myint product_ ; Moutput ( \" Enter the number a \" ) ; Minput ( a_ ) ; Moutput ( \" Enter the number b \" ) ; Minput ( b_ ) ; product_ = a_ + b_ ; output ( product_ ) ; }\n"
     ]
    }
   ],
   "source": [
    "def removeWhiteSpace():\n",
    "    try:\n",
    "        str=''\n",
    "        words=[]\n",
    "        j=0\n",
    "        with open('file.txt','r') as f:\n",
    "            read=f.read()\n",
    "            print(read)\n",
    "            for i in read:\n",
    "                if i != '\\n':\n",
    "                    words.append(i)\n",
    "            while j < len(words):\n",
    "                if words[j] != ' ':\n",
    "                    str=str+words[j]\n",
    "                    j=j+1\n",
    "                elif words[j] == ' ':\n",
    "                    str=str+words[j]\n",
    "                    if words[j+1] == ' ':\n",
    "                        k=j+1\n",
    "                        while words[k] == ' ':\n",
    "                            k=k+1\n",
    "                        j=k\n",
    "                    else:\n",
    "                        j=j+1\n",
    "            \n",
    "            return str         \n",
    "    except FileNotFound:\n",
    "        print('file not found')\n",
    "string=removeWhiteSpace()\n",
    "str=string.split()\n",
    "print(str,'\\n')\n",
    "print(string)"
   ]
  },
  {
   "cell_type": "code",
   "execution_count": 14,
   "metadata": {},
   "outputs": [
    {
     "name": "stdout",
     "output_type": "stream",
     "text": [
      "\n",
      "\n",
      "void Main {\n",
      "     myint a_ ;\n",
      "     myint b_ ;\n",
      "     myint product_ ;\n",
      "     Moutput ( \" Enter the number a \" ) ;\n",
      "     Minput ( a_ ) ;\n",
      "     \n",
      "     Moutput ( \" Enter the number b \" ) ;\n",
      "     Minput ( b_ ) ;\n",
      "\n",
      "     product_ = a_ + b_ ; \n",
      "     output ( product_ ) ;\n",
      " }\n",
      "['void', 'Main', '{', 'myint', 'a_', ';', 'myint', 'b_', ';', 'myint', 'product_', ';', 'Moutput', '(', '\"', 'Enter', 'the', 'number', 'a', '\"', ')', ';', 'Minput', '(', 'a_', ')', ';', 'Moutput', '(', '\"', 'Enter', 'the', 'number', 'b', '\"', ')', ';', 'Minput', '(', 'b_', ')', ';', 'product_', '=', 'a_', '+', 'b_', ';', 'output', '(', 'product_', ')', ';', '}'] \n",
      "\n",
      "keyword : ['void', 'myint', 'myint', 'myint']\n",
      "Operator : ['=', '+']\n",
      "Punctuation : ['{', ';', ';', ';', '(', ')', ';', '(', ')', ';', '(', ')', ';', '(', ')', ';', ';', '(', ')', ';', '}']\n",
      "Identifier : ['Main', 'a_', 'b_', 'product_', 'Moutput', 'Minput', 'a_', 'Moutput', 'Minput', 'b_', 'product_', 'a_', 'b_', 'product_']\n"
     ]
    }
   ],
   "source": [
    "def tokenization():\n",
    "    string=removeWhiteSpace()\n",
    "    stringArray = string.split()\n",
    "    keywords=['myint','myfloat','mychar','mydouble','mylong','myString','Mif','Melse','Melif','Mwhile','Mfor','void']\n",
    "    operators=['&','||','!','+','-','//','%','*','**','++','--','>','<','=','==','>=','<=']\n",
    "    punctuation=[':',';','(',')','{','}',',']\n",
    "    identifier=['Minput','Moutput','Main']\n",
    "    keyList=[]\n",
    "    operatorList=[]\n",
    "    puncList=[]\n",
    "    identifierList=[]\n",
    "    stringList=[]\n",
    "    string=[]\n",
    "    symboltable = {}\n",
    "    i=0\n",
    "    while i < len(stringArray):\n",
    "        if stringArray[i] in keywords:\n",
    "            keyList.append(stringArray[i])\n",
    "        elif stringArray[i] in operators:\n",
    "            operatorList.append(stringArray[i])\n",
    "        elif stringArray[i] in punctuation:\n",
    "            puncList.append(stringArray[i])\n",
    "        elif stringArray[i] in identifier:\n",
    "              identifierList.append(stringArray[i])\n",
    "        else:\n",
    "            str=stringArray[i]\n",
    "            if str[len(str)-1] == '_':\n",
    "                identifierList.append(str)\n",
    "            #elif str[i-1] == '\"':\n",
    "             #   k=i+1\n",
    "              #  while str[k] == '\"':\n",
    "               #     string.append(str)\n",
    "                #    k=k+1\n",
    "        i=i+1\n",
    "    print(stringArray,'\\n')\n",
    "    symboltable['keyword']=keyList\n",
    "    symboltable['Operator']=operatorList\n",
    "    symboltable['Punctuation']=puncList\n",
    "    symboltable['Identifier']=identifierList\n",
    "    return symboltable\n",
    "string=tokenization()\n",
    "for key,values in string.items():\n",
    "    print(key,\":\",values)"
   ]
  }
 ],
 "metadata": {
  "kernelspec": {
   "display_name": "Python 3",
   "language": "python",
   "name": "python3"
  },
  "language_info": {
   "codemirror_mode": {
    "name": "ipython",
    "version": 3
   },
   "file_extension": ".py",
   "mimetype": "text/x-python",
   "name": "python",
   "nbconvert_exporter": "python",
   "pygments_lexer": "ipython3",
   "version": "3.7.0"
  }
 },
 "nbformat": 4,
 "nbformat_minor": 2
}
