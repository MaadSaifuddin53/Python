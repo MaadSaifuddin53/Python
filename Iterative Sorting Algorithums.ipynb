{
 "cells": [
  {
   "cell_type": "markdown",
   "metadata": {},
   "source": [
    "# Selection Sort – find min, keep swapping with first element, repetetively."
   ]
  },
  {
   "cell_type": "code",
   "execution_count": 7,
   "metadata": {},
   "outputs": [
    {
     "name": "stdout",
     "output_type": "stream",
     "text": [
      "Sorted array\n",
      "7 10 21 34 74 "
     ]
    }
   ],
   "source": [
    "arr = [74, 34, 10, 21, 7] \n",
    "for i in range(len(arr)): \n",
    "    min_idx = i \n",
    "    for j in range(i+1, len(arr)): \n",
    "        if arr[min_idx] > arr[j]: \n",
    "            min_idx = j \n",
    "              \n",
    "    # Swap the found minimum element with  \n",
    "    # the first element         \n",
    "    arr[i], arr[min_idx] = arr[min_idx], arr[i]  \n",
    "print (\"Sorted array\") \n",
    "for i in range(len(arr)): \n",
    "    print(arr[i],end=' '),  "
   ]
  },
  {
   "cell_type": "markdown",
   "metadata": {},
   "source": [
    "# Bubble Sort – bubble up the max number to last element, repetetively."
   ]
  },
  {
   "cell_type": "code",
   "execution_count": 8,
   "metadata": {},
   "outputs": [
    {
     "name": "stdout",
     "output_type": "stream",
     "text": [
      "Sorted array is:\n",
      "11 12 22 25 34 64 90 "
     ]
    }
   ],
   "source": [
    "arr = [64, 34, 25, 12, 22, 11, 90]\n",
    "n = len(arr) \n",
    "for i in range(n): \n",
    "    for j in range(0, n-i-1): \n",
    "            if arr[j] > arr[j+1] : \n",
    "                arr[j], arr[j+1] = arr[j+1], arr[j] \n",
    "print (\"Sorted array is:\") \n",
    "for i in range(len(arr)): \n",
    "    print (arr[i],end=' ')  "
   ]
  },
  {
   "cell_type": "markdown",
   "metadata": {},
   "source": [
    "# Modified Bubble Sort – bubble up the max number to last element, repetetively, until there is a swap."
   ]
  },
  {
   "cell_type": "markdown",
   "metadata": {},
   "source": [
    "# Insertion sort – Insert every element to its correct position."
   ]
  },
  {
   "cell_type": "code",
   "execution_count": 10,
   "metadata": {},
   "outputs": [
    {
     "name": "stdout",
     "output_type": "stream",
     "text": [
      "1 3 4 6 7 10 12 14 90 "
     ]
    }
   ],
   "source": [
    "arr = [10, 12, 14, 4, 7,6,3,1,90] \n",
    "for i in range(1, len(arr)): \n",
    "        key = arr[i] \n",
    "        j = i-1\n",
    "        while j >= 0 and key < arr[j] : \n",
    "                arr[j + 1] = arr[j] \n",
    "                j -= 1\n",
    "        arr[j + 1] = key \n",
    "for i in range(len(arr)): \n",
    "    print (arr[i],end=' ') "
   ]
  },
  {
   "cell_type": "markdown",
   "metadata": {},
   "source": [
    "# Bin/Bucket Sort – Divide into bins/buckets, sort each bucket then concatenate."
   ]
  },
  {
   "cell_type": "code",
   "execution_count": 12,
   "metadata": {},
   "outputs": [
    {
     "name": "stdout",
     "output_type": "stream",
     "text": [
      "Sorted Array is\n",
      "[0.1234, 0.3434, 0.565, 0.656, 0.665, 0.897]\n"
     ]
    }
   ],
   "source": [
    "def insertionSort(arr): \n",
    "    for i in range(1, len(arr)): \n",
    "        key = arr[i] \n",
    "        j = i-1\n",
    "        while j >= 0 and key < arr[j] : \n",
    "                arr[j + 1] = arr[j] \n",
    "                j -= 1\n",
    "        arr[j + 1] = key \n",
    "    return arr      \n",
    "              \n",
    "def bucket_Sort(x): \n",
    "    list = [] \n",
    "    blocks = 10  \n",
    "    for i in range(blocks): \n",
    "        list.append([])   \n",
    "    for j in x: \n",
    "        index_b = int(blocks* j)  \n",
    "        list[index_b].append(j)   \n",
    "    for i in range(blocks): \n",
    "        list[i] = insertionSort( list[i]) \n",
    "    k = 0\n",
    "    for i in range(blocks): \n",
    "        for j in range(len( list[i])): \n",
    "            x[k] =  list[i][j] \n",
    "            k += 1\n",
    "    return x  \n",
    "arr = [0.897, 0.565, 0.656,0.1234, 0.665, 0.3434]  \n",
    "print(\"Sorted Array is\") \n",
    "print(bucket_Sort(arr)) "
   ]
  },
  {
   "cell_type": "markdown",
   "metadata": {},
   "source": [
    "# Tree Sort – Create BST from given array, then apply inorder traversal.  "
   ]
  },
  {
   "cell_type": "code",
   "execution_count": 17,
   "metadata": {},
   "outputs": [
    {
     "name": "stdout",
     "output_type": "stream",
     "text": [
      "Inorder traversal of the constructed tree:\n",
      "1,5,7,10,40,50,65,14,90,90,"
     ]
    }
   ],
   "source": [
    "class Node():  \n",
    "    def __init__(self, data): \n",
    "        self.data = data  \n",
    "        self.left = None\n",
    "        self.right = None\n",
    "        \n",
    "def getPreIndex(): \n",
    "    return constructTreeHelper.preIndex \n",
    " \n",
    "def incrementPreIndex(): \n",
    "    constructTreeHelper.preIndex += 1\n",
    "    \n",
    "def constructTreeHelper(arr, start, end, size): \n",
    "      \n",
    "    # Base Case  \n",
    "    if( getPreIndex() >= size or start > end): \n",
    "        return None\n",
    "    root = Node(arr[getPreIndex()]) \n",
    "    incrementPreIndex() \n",
    "\n",
    "    if start == end : \n",
    "        return root  \n",
    "\n",
    "    for i in range(start, end+1): \n",
    "        if (arr[i] > root.data): \n",
    "            break \n",
    "    root.left = constructTreeHelper(arr, getPreIndex(),  i-1 , size)  \n",
    "  \n",
    "    root.right = constructTreeHelper(arr, i, end, size)  \n",
    "      \n",
    "    return root \n",
    "   \n",
    "def constructTree(arr): \n",
    "    size = len(arr)  \n",
    "    constructTreeHelper.preIndex = 0 \n",
    "    return constructTreeHelper(arr, 0, size-1, size) \n",
    "  \n",
    "def printInorder(root): \n",
    "    if root is None: \n",
    "        return \n",
    "    printInorder(root.left) \n",
    "    print (root.data,end=',') \n",
    "    printInorder(root.right) \n",
    "    \n",
    "if __name__==\"__main__\":\n",
    "    arr = [10, 5, 1, 7, 40, 50,90,65,14,90] \n",
    "    root = constructTree(arr) \n",
    "    print (\"Inorder traversal of the constructed tree:\")\n",
    "    printInorder(root) \n",
    "  "
   ]
  },
  {
   "cell_type": "markdown",
   "metadata": {},
   "source": [
    "# Quick Sort – Partition into halves, and then concatenate, repetetively."
   ]
  },
  {
   "cell_type": "code",
   "execution_count": 22,
   "metadata": {},
   "outputs": [
    {
     "name": "stdout",
     "output_type": "stream",
     "text": [
      "Sorted array is:\n",
      "1 1 2 2 3 3 3 4 4 4 5 8 9 "
     ]
    }
   ],
   "source": [
    "def partition(arr,start,end): \n",
    "    i = start - 1  \n",
    "    x = arr[end] \n",
    "    for j in range(start , end): \n",
    "        if   arr[j] <= x: \n",
    "            i = i+1\n",
    "            arr[i],arr[j] = arr[j],arr[i] \n",
    "    arr[i+1],arr[end] = arr[end],arr[i+1] \n",
    "    return i+1 \n",
    "\n",
    "def quickSort(arr,start,end): \n",
    "    size = end - start + 1\n",
    "    stack = [0] * (size) \n",
    "    top = -1\n",
    "    top = top + 1\n",
    "    stack[top] = start \n",
    "    top = top + 1\n",
    "    stack[top] = end\n",
    "    \n",
    "    while top >= 0: \n",
    "        end = stack[top] \n",
    "        top = top - 1\n",
    "        l = stack[top] \n",
    "        top = top - 1\n",
    "        p = partition( arr, start, end ) \n",
    "        if p-1 > l: \n",
    "            top = top + 1\n",
    "            stack[top] = l \n",
    "            top = top + 1\n",
    "            stack[top] = p - 1\n",
    "            \n",
    "        if p+1 < end: \n",
    "            top = top + 1\n",
    "            stack[top] = p + 1\n",
    "            top = top + 1\n",
    "            stack[top] = end \n",
    "  \n",
    "if __name__==\"__main__\":\n",
    "    arr = [4, 3, 5, 2, 1, 3, 2, 3,4,8,1,9,4] \n",
    "    size = len(arr) \n",
    "    quickSort(arr, 0, size-1) \n",
    "    print (\"Sorted array is:\") \n",
    "    for i in range(size): \n",
    "        print (arr[i],end=' ') "
   ]
  },
  {
   "cell_type": "markdown",
   "metadata": {},
   "source": [
    "# Merge Sort – Divide into halves, then merge, repetetively, using separate array."
   ]
  },
  {
   "cell_type": "code",
   "execution_count": 26,
   "metadata": {},
   "outputs": [
    {
     "name": "stdout",
     "output_type": "stream",
     "text": [
      "Given array is \n",
      "[12, 11, 13, 5, 6, 7, 90]\n",
      "Sorted array is \n",
      "[11, 12, 6, 7, 13, 5, 90]\n"
     ]
    }
   ],
   "source": [
    "def mergeSort(a): \n",
    "    current_size = 1\n",
    "    while current_size < len(a) - 1: \n",
    "        left = 0\n",
    "        while left < len(a)-1: \n",
    "            mid = left + current_size - 1\n",
    "            right = ((2 * current_size + left - 1, len(a) - 1)[2 * current_size  + left - 1 > len(a)-1])  \n",
    "            merge(a, left, mid, right) \n",
    "            left = left + current_size*2 \n",
    "            current_size = 2 * current_size \n",
    "\n",
    "def merge(a, l, m, r): \n",
    "    num1 = m - l + 1\n",
    "    num2 = r - m \n",
    "    left = [0] *  num1 \n",
    "    right = [0] * num2 \n",
    "    for i in range(0,  num1): \n",
    "        left[i] = a[l + i] \n",
    "    for i in range(0, num2): \n",
    "        right[i] = a[m + i + 1] \n",
    "  \n",
    "    i, j, k = 0, 0, l \n",
    "    while i <  num1 and j < num2: \n",
    "        if left[i] > right[j]: \n",
    "            a[k] = right[j] \n",
    "            j += 1\n",
    "        else: \n",
    "            a[k] = left[i] \n",
    "            i += 1\n",
    "        k += 1\n",
    "  \n",
    "    while i <  num1: \n",
    "        a[k] = left[i] \n",
    "        i += 1\n",
    "        k += 1\n",
    "  \n",
    "    while j < num2: \n",
    "        a[k] = right[j] \n",
    "        j += 1\n",
    "        k += 1\n",
    "  \n",
    "  \n",
    "if __name__==\"__main__\":\n",
    "    a = [12, 11, 13, 5, 6, 7,90,] \n",
    "    print(\"Given array is \") \n",
    "    print(a) \n",
    "  \n",
    "    mergeSort(a) \n",
    "  \n",
    "    print(\"Sorted array is \") \n",
    "    print(a) \n",
    "  "
   ]
  },
  {
   "cell_type": "markdown",
   "metadata": {},
   "source": [
    "# Heap Sort – Create heap from given array and select root, repetetively."
   ]
  },
  {
   "cell_type": "code",
   "execution_count": 28,
   "metadata": {},
   "outputs": [
    {
     "name": "stdout",
     "output_type": "stream",
     "text": [
      "Sorted array: \n",
      "9 10 15 17 20 21 "
     ]
    }
   ],
   "source": [
    "def createMaxHeap(arr, size):  \n",
    "    for i in range(size): \n",
    "        if arr[i] > arr[int((i - 1) / 2)]: \n",
    "            j = i  \n",
    "            while arr[j] > arr[int((j - 1) / 2)]: \n",
    "                (arr[j],  \n",
    "                 arr[int((j - 1) / 2)]) = (arr[int((j - 1) / 2)], arr[j]) \n",
    "                j = int((j - 1) / 2) \n",
    "                \n",
    "                \n",
    "def heapSort(arr, size):  \n",
    "    createMaxHeap(arr, size)  \n",
    "    for i in range(size- 1, 0, -1): \n",
    "        arr[0], arr[i] = arr[i], arr[0] \n",
    "        j, index = 0, 0\n",
    "        while True: \n",
    "            index = 2 * j + 1\n",
    "            if (index < (i - 1) and \n",
    "                arr[index] < arr[index + 1]):  \n",
    "                index += 1\n",
    "            if index < i and arr[j] < arr[index]:  \n",
    "                arr[j], arr[index] = arr[index], arr[j]  \n",
    "          \n",
    "            j = index  \n",
    "            if index >= i: \n",
    "                break\n",
    "                \n",
    "if __name__ == \"__main__\": \n",
    "    arr = [10, 20, 15, 17, 9, 21]  \n",
    "    size = len(arr)        \n",
    "    heapSort(arr, size)  \n",
    "    print(\"Sorted array: \") \n",
    "    for i in range(size): \n",
    "        print(arr[i], end = \" \") "
   ]
  },
  {
   "cell_type": "markdown",
   "metadata": {},
   "source": [
    "# Counting Sort – Count the occurances of each element and place them accordingly."
   ]
  },
  {
   "cell_type": "code",
   "execution_count": 36,
   "metadata": {},
   "outputs": [
    {
     "name": "stdout",
     "output_type": "stream",
     "text": [
      "Sorted character array is   AADEFFHIINRSSTUUVY\n"
     ]
    }
   ],
   "source": [
    "def countSort(arr): \n",
    "    output = [0 for i in range(256)] \n",
    "    count = [0 for i in range(256)] \n",
    "    ans = [i for i in arr] \n",
    "    for i in arr: \n",
    "        count[ord(i)] += 1\n",
    "    for i in range(256): \n",
    "        count[i] += count[i-1] \n",
    "    for i in range(len(arr)): \n",
    "        output[count[ord(arr[i])]-1] = arr[i] \n",
    "        count[ord(arr[i])] -= 1\n",
    "    for i in range(len(arr)): \n",
    "        ans[i] = output[i] \n",
    "    return ans  \n",
    "  \n",
    "if __name__ == \"__main__\":\n",
    "    arr = \"DHA SUFFA UNIVERSITY\"\n",
    "    ans = countSort(arr) \n",
    "    print (\"Sorted character array is %s\"  %(\"\".join(ans))) "
   ]
  },
  {
   "cell_type": "markdown",
   "metadata": {},
   "source": [
    "# Radix Sort – Look at internet!"
   ]
  },
  {
   "cell_type": "code",
   "execution_count": 48,
   "metadata": {},
   "outputs": [
    {
     "name": "stdout",
     "output_type": "stream",
     "text": [
      "2 24 45 66 75 90 170 802 "
     ]
    }
   ],
   "source": [
    "def countingSort(arr, exp1): \n",
    "    n = len(arr) \n",
    "    output = [0] * (n) \n",
    "    count = [0] * (10) \n",
    "    for i in range(0, n): \n",
    "        index = int(arr[i]/exp1) \n",
    "        count[ int((index)%10) ]+=1\n",
    "    for i in range(1,10): \n",
    "        count[i] += count[i-1] \n",
    "    i = n-1\n",
    "    while i>=0: \n",
    "        index = (arr[i]/exp1) \n",
    "        output[ count[ int((index)%10) ] - 1] = arr[i] \n",
    "        count[ int((index)%10 )] -= 1\n",
    "        i -= 1\n",
    "    i = 0\n",
    "    for i in range(0,len(arr)): \n",
    "        arr[i] = output[i] \n",
    "def radixSort(arr):  \n",
    "    max1 = max(arr) \n",
    "    exp = 1\n",
    "    while max1/exp > 0: \n",
    "        countingSort(arr,exp) \n",
    "        exp *= 10\n",
    "if __name__ == \"__main__\":\n",
    "    arr = [ 170, 45, 75, 90, 802, 24, 2, 66] \n",
    "    radixSort(arr) \n",
    "    for i in range(len(arr)): \n",
    "        print(arr[i],end=' ')"
   ]
  },
  {
   "cell_type": "markdown",
   "metadata": {},
   "source": [
    "# Shell Sort "
   ]
  },
  {
   "cell_type": "code",
   "execution_count": 59,
   "metadata": {},
   "outputs": [
    {
     "name": "stdout",
     "output_type": "stream",
     "text": [
      "Array before sorting:\n",
      "12 34 54 2 3 \n",
      "Array after sorting:\n",
      "2 3 12 34 54 "
     ]
    }
   ],
   "source": [
    "def shellSort(arr): \n",
    "    n = len(arr) \n",
    "    gap = n//2\n",
    "    while gap > 0: \n",
    "        for i in range(gap,n): \n",
    "            temp = arr[i] \n",
    "            j = i \n",
    "            while  j >= gap and arr[j-gap] >temp: \n",
    "                arr[j] = arr[j-gap] \n",
    "                j -= gap \n",
    "            arr[j] = temp \n",
    "        gap //= 2\n",
    "  \n",
    "  \n",
    "  \n",
    "if __name__ == '__main__': \n",
    "    arr = [ 12, 34, 54, 2, 3] \n",
    "    n = len(arr) \n",
    "    print (\"Array before sorting:\") \n",
    "    for i in range(n): \n",
    "        print(arr[i],end=' ') \n",
    "    shellSort(arr) \n",
    "    print (\"\\nArray after sorting:\") \n",
    "    for i in range(n): \n",
    "        print(arr[i],end=' ') "
   ]
  }
 ],
 "metadata": {
  "kernelspec": {
   "display_name": "Python 3",
   "language": "python",
   "name": "python3"
  },
  "language_info": {
   "codemirror_mode": {
    "name": "ipython",
    "version": 3
   },
   "file_extension": ".py",
   "mimetype": "text/x-python",
   "name": "python",
   "nbconvert_exporter": "python",
   "pygments_lexer": "ipython3",
   "version": "3.7.3"
  }
 },
 "nbformat": 4,
 "nbformat_minor": 2
}
