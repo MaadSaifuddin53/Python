{
 "cells": [
  {
   "cell_type": "markdown",
   "metadata": {},
   "source": [
    "# Algo Assignment Sorting Algorithums"
   ]
  },
  {
   "cell_type": "markdown",
   "metadata": {},
   "source": [
    "# Selection Sort"
   ]
  },
  {
   "cell_type": "code",
   "execution_count": 1,
   "metadata": {},
   "outputs": [
    {
     "name": "stdout",
     "output_type": "stream",
     "text": [
      "1 1 2 2 3 4 4 10 12 15 47 56 90 400 1000 "
     ]
    }
   ],
   "source": [
    "def selectionSort(arr, size, index = 0): \n",
    "    if index == size: \n",
    "        return -1      \n",
    "    min1 = minIndex(arr,index,size-1) \n",
    "    if min1 != index: \n",
    "        arr[min1],arr[index] = arr[index],arr[min1] \n",
    "    selectionSort(arr, size, index + 1)\n",
    "    \n",
    "def minIndex(arr,i,j): \n",
    "    if i == j: \n",
    "        return i  \n",
    "    min1 = minIndex(arr, i + 1, j) \n",
    "    if (arr[i] < arr[min1]):\n",
    "         return i\n",
    "    else:\n",
    "        return min1\n",
    "    \n",
    "if __name__==\"__main__\":\n",
    "    arr = [10, 90, 1, 12, 400, 4,56,15,47,1000,2,3,4,1,2] \n",
    "    size = len(arr)  \n",
    "    selectionSort(arr,size) \n",
    "    for x in arr: \n",
    "        print(x,end=' ') "
   ]
  },
  {
   "cell_type": "markdown",
   "metadata": {},
   "source": [
    "# Bubble Sort"
   ]
  },
  {
   "cell_type": "code",
   "execution_count": 2,
   "metadata": {},
   "outputs": [
    {
     "name": "stdout",
     "output_type": "stream",
     "text": [
      "30 70 20 10 23 15 100 "
     ]
    }
   ],
   "source": [
    "def bubbleSort(arr): \n",
    "    for i, x in enumerate(arr): \n",
    "            if arr[i+1] < x: \n",
    "                arr[i] = arr[i+1] \n",
    "                arr[i+1] = x \n",
    "                bubbleSort(arr) \n",
    "            return arr \n",
    "if __name__==\"__main__\": \n",
    "    arr=[70, 30, 20, 10, 23, 15, 100] \n",
    "    bubbleSort(arr)    \n",
    "    for i in range(len(arr)): \n",
    "        print(arr[i],end=' ') "
   ]
  },
  {
   "cell_type": "markdown",
   "metadata": {},
   "source": [
    "# Insertion sort – Insert every element to its correct position."
   ]
  },
  {
   "cell_type": "code",
   "execution_count": 3,
   "metadata": {},
   "outputs": [
    {
     "name": "stdout",
     "output_type": "stream",
     "text": [
      "4 7 8 9 12 15 90 "
     ]
    }
   ],
   "source": [
    "def recurInsertionSort(arr,size): \n",
    "    if size<=1: \n",
    "        return \n",
    "    recurInsertionSort(arr,size-1) \n",
    "    num = arr[size-1] \n",
    "    i= size-2\n",
    "    while (i>=0 and arr[i]>num): \n",
    "        arr[i+1] = arr[i] \n",
    "        i= i-1\n",
    "    arr[i+1]=num \n",
    "if __name__ == \"__main__\":\n",
    "    arr = [15,9,12,4,7,8,90] \n",
    "    size = len(arr) \n",
    "    recurInsertionSort(arr,size)\n",
    "    for i in range(len(arr)): \n",
    "        print( arr[i],end=' ')"
   ]
  },
  {
   "cell_type": "markdown",
   "metadata": {},
   "source": [
    "# Bin/Bucket Sort – Divide into bins/buckets, sort each bucket then concatenate."
   ]
  },
  {
   "cell_type": "code",
   "execution_count": 4,
   "metadata": {},
   "outputs": [
    {
     "name": "stdout",
     "output_type": "stream",
     "text": [
      "Sorted list: [1, 1, 2, 2, 3, 4, 4, 10, 12, 15, 47, 56, 90, 400, 1000]\n"
     ]
    }
   ],
   "source": [
    "def bucketSort(arr):\n",
    "    largest = max(arr)\n",
    "    length = len(arr)\n",
    "    size = largest/length\n",
    "    buckets = [[] for i in range(length)]\n",
    "    for i in range(length):\n",
    "        j = int(arr[i]/size)\n",
    "        if j != length:\n",
    "            buckets[j].append(arr[i])\n",
    "        else:\n",
    "            buckets[length - 1].append(arr[i])\n",
    "    for i in range(length):\n",
    "        recurInsertionSort(buckets[i],len(buckets[i]))       \n",
    "    result = []\n",
    "    for i in range(length):\n",
    "        result = result + buckets[i]\n",
    "    return result\n",
    "\n",
    "def recurInsertionSort(arr,size): \n",
    "    if size<=1: \n",
    "        return \n",
    "    recurInsertionSort(arr,size-1) \n",
    "    num = arr[size-1] \n",
    "    i= size-2\n",
    "    while (i>=0 and arr[i]>num): \n",
    "        arr[i+1] = arr[i] \n",
    "        i= i-1\n",
    "    arr[i+1]=num \n",
    "    \n",
    "if __name__==\"__main__\":\n",
    "    arr = [10, 90, 1, 12, 400, 4,56,15,47,1000,2,3,4,1,2]\n",
    "    sorted_list = bucketSort(arr)\n",
    "    print('Sorted list: ', end='')\n",
    "    print(sorted_list)    "
   ]
  },
  {
   "cell_type": "markdown",
   "metadata": {},
   "source": [
    "# Tree Sort – Create BST from given array, then apply inorder traversal."
   ]
  },
  {
   "cell_type": "code",
   "execution_count": 5,
   "metadata": {},
   "outputs": [
    {
     "name": "stdout",
     "output_type": "stream",
     "text": [
      "Inorder traversal of the constructed tree is \n",
      "5 10 40 30 28 "
     ]
    }
   ],
   "source": [
    "class newNode: \n",
    "    def __init__(self, data): \n",
    "        self.data = data  \n",
    "        self.left = None\n",
    "        self.right = None\n",
    "        \n",
    "def Max(arr, strt, end): \n",
    "    i, Max = 0, arr[strt] \n",
    "    maxind = strt \n",
    "    for i in range(strt + 1, end + 1): \n",
    "        if arr[i] > Max: \n",
    "            Max = arr[i]  \n",
    "            maxind = i \n",
    "    return maxind\n",
    "\n",
    "def createTreeFromArray(inorder, start, end): \n",
    "    if start > end: \n",
    "        return None\n",
    "    i = Max (inorder, start, end)    \n",
    "    root = newNode(inorder[i])  \n",
    "    if start == end:  \n",
    "        return root  \n",
    "    root.left = createTreeFromArray(inorder, start, i - 1)  \n",
    "    root.right = createTreeFromArray(inorder, i + 1, end)  \n",
    "    return root\n",
    "\n",
    "def printInorder (node): \n",
    "    if node == None:  \n",
    "        return\n",
    "    printInorder (node.left)  \n",
    "    print(node.data,end=' ') \n",
    "    printInorder (node.right) \n",
    "if __name__ == '__main__': \n",
    "    inorder = [5, 10, 40, 30, 28] \n",
    "    Len = len(inorder)  \n",
    "    root = createTreeFromArray(inorder, 0, Len - 1)  \n",
    "    print(\"Inorder traversal of the\",\"constructed tree is \")  \n",
    "    printInorder(root) "
   ]
  },
  {
   "cell_type": "markdown",
   "metadata": {},
   "source": [
    "# Quick Sort – Partition into halves, and then concatenate, repetetively."
   ]
  },
  {
   "cell_type": "code",
   "execution_count": 6,
   "metadata": {},
   "outputs": [
    {
     "name": "stdout",
     "output_type": "stream",
     "text": [
      "Sorted array is:\n",
      "1 5 7 9 8 10 "
     ]
    }
   ],
   "source": [
    "def partition(list,start,end): \n",
    "    i = start-1          \n",
    "    pivot = list[end]      \n",
    "    for j in range(start,end): \n",
    "        if  list[j] <= pivot: \n",
    "            i = i+1 \n",
    "            list[i],list[j] = list[j],list[i] \n",
    "        list[i+1],list[end] = list[end],list[i+1] \n",
    "    return  i+1    \n",
    " \n",
    "def quickSort(list,start,end): \n",
    "    if start < end: \n",
    "        pi = partition(list,start,end) \n",
    "        quickSort(list,start, pi-1) \n",
    "        quickSort(list,pi+1, end) \n",
    "        \n",
    "if __name__ == \"__main__\":\n",
    "    list = [10, 7, 8, 9, 1, 5] \n",
    "    size = len(list) \n",
    "    quickSort(list,0,size-1) \n",
    "    print (\"Sorted array is:\") \n",
    "    for i in range(size): \n",
    "        print (list[i],end=' ') "
   ]
  },
  {
   "cell_type": "markdown",
   "metadata": {},
   "source": [
    "# Merge Sort – Divide into halves, then merge, repetetively, using separate array."
   ]
  },
  {
   "cell_type": "code",
   "execution_count": 7,
   "metadata": {},
   "outputs": [
    {
     "name": "stdout",
     "output_type": "stream",
     "text": [
      "Sorted array is:  5 6 7 9 11 12 13 23 "
     ]
    }
   ],
   "source": [
    "def mergeSort(list): \n",
    "    if len(list)>1: \n",
    "        mid = len(list)//2  \n",
    "        left = list[:mid]   \n",
    "        right= list[mid:]  \n",
    "        mergeSort(left) \n",
    "        mergeSort(right)  \n",
    "        i = m = j = 0\n",
    "        while i<len(left) and j<len(right): \n",
    "            if left[i]<right[j]: \n",
    "                list[m]=left[i] \n",
    "                i=i+1\n",
    "            else: \n",
    "                list[m] = right[j] \n",
    "                j=j+1\n",
    "            m=m+1\n",
    "        while i<len(left): \n",
    "            list[m] = left[i] \n",
    "            i=i+1\n",
    "            m=m+1\n",
    "        while j<len(right): \n",
    "            list[m]=right[j] \n",
    "            j=j+1\n",
    "            m=m+1 \n",
    "             \n",
    "if __name__ == '__main__': \n",
    "    list = [12, 11, 13, 5, 6, 7,9,23]     \n",
    "    mergeSort(list) \n",
    "    print(\"Sorted array is: \", end=\" \") \n",
    "    for i in range(len(list)):         \n",
    "        print(list[i],end=\" \") \n"
   ]
  },
  {
   "cell_type": "markdown",
   "metadata": {},
   "source": [
    "# Inplace Merge Sort – Divide into halves, then merge, repetetively, within same array."
   ]
  },
  {
   "cell_type": "code",
   "execution_count": 12,
   "metadata": {},
   "outputs": [
    {
     "name": "stdout",
     "output_type": "stream",
     "text": [
      "5 6 7 11 12 13 "
     ]
    }
   ],
   "source": [
    "def merge(arr,start,mid,end):\n",
    "    start2 = mid + 1 \n",
    "    if (arr[mid] <= arr[start2]):  \n",
    "            return 0\n",
    "    while (start <= mid and start2 <= end):    \n",
    "        if (arr[start] <= arr[start2]):  \n",
    "                start=start+1 \n",
    "        else:\n",
    "            value = arr[start2] \n",
    "            index = start2\n",
    "            while (index != start):\n",
    "                    arr[index] = arr[index - 1] \n",
    "                    index=index-1 \n",
    "            arr[start] = value  \n",
    "            start=start+1 \n",
    "            mid=mid+1 \n",
    "            start2=start2+1    \n",
    "            \n",
    "def mergeSort(arr,l, r): \n",
    "    if l < r: \n",
    "        m = l + (r - l) // 2 \n",
    "        mergeSort(arr, l, m) \n",
    "        mergeSort(arr, m + 1, r) \n",
    "        merge(arr, l, m, r)\n",
    "        \n",
    "if __name__==\"__main__\": \n",
    "    arr = [ 12, 11, 13, 5, 6, 7 ] \n",
    "    size = len(arr)  \n",
    "    mergeSort(arr, 0, size - 1) \n",
    "    for i in range(size):\n",
    "        print(arr[i],end=' ')"
   ]
  },
  {
   "cell_type": "markdown",
   "metadata": {},
   "source": [
    "# Heap Sort – Create heap from given array and select root, repetetively."
   ]
  },
  {
   "cell_type": "code",
   "execution_count": 17,
   "metadata": {},
   "outputs": [
    {
     "name": "stdout",
     "output_type": "stream",
     "text": [
      "Sorted array is\n",
      "5 6 7 11 13 12 "
     ]
    }
   ],
   "source": [
    "def heapify(arr, size, j):\n",
    "    largest = j\n",
    "    left = 2 * j + 1\n",
    "    right = 2 * j + 2 \n",
    "    if left < size and arr[j] < arr[left]:\n",
    "        largest = left\n",
    "    if right < size and arr[largest] < arr[right]:\n",
    "        largest = right\n",
    "    if largest != j:\n",
    "        arr[j],arr[largest] = arr[largest],arr[j]\n",
    "        heapify(arr, size, largest)\n",
    "        \n",
    "def heapSort(arr):\n",
    "    size = len(arr)\n",
    "    for i in range(size, 0, -1):\n",
    "        heapify(arr, size, i)    \n",
    "    for i in range(size-1, 0, -1):\n",
    "        arr[i], arr[0] = arr[0], arr[i]  \n",
    "        heapify(arr, i, 0)\n",
    " \n",
    "if __name__==\"__main__\":\n",
    "    arr = [ 12, 11, 13, 5, 6, 7]\n",
    "    heapSort(arr)\n",
    "    print (\"Sorted array is\")\n",
    "    for i in range(len(arr)):\n",
    "        print (arr[i],end=' ')"
   ]
  },
  {
   "cell_type": "markdown",
   "metadata": {},
   "source": [
    "# Counting Sort – Count the occurances of each element and place them accordingly."
   ]
  },
  {
   "cell_type": "code",
   "execution_count": null,
   "metadata": {},
   "outputs": [],
   "source": []
  }
 ],
 "metadata": {
  "kernelspec": {
   "display_name": "Python 3",
   "language": "python",
   "name": "python3"
  },
  "language_info": {
   "codemirror_mode": {
    "name": "ipython",
    "version": 3
   },
   "file_extension": ".py",
   "mimetype": "text/x-python",
   "name": "python",
   "nbconvert_exporter": "python",
   "pygments_lexer": "ipython3",
   "version": "3.7.3"
  }
 },
 "nbformat": 4,
 "nbformat_minor": 2
}
